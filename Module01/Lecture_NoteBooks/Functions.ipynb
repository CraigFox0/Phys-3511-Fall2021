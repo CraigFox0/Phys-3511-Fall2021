{
 "cells": [
  {
   "cell_type": "code",
   "execution_count": 28,
   "metadata": {},
   "outputs": [],
   "source": [
    "import matplotlib.pyplot as plt\n",
    "import numpy as np\n",
    "%matplotlib notebook\n",
    "#%matplotlib inline"
   ]
  },
  {
   "cell_type": "markdown",
   "metadata": {},
   "source": [
    "# Functions\n",
    "- A block of code that runs only when its called\n",
    "- Can be passed input (e.g. parameters) and return output"
   ]
  },
  {
   "cell_type": "markdown",
   "metadata": {},
   "source": [
    "Example Function"
   ]
  },
  {
   "cell_type": "code",
   "execution_count": 29,
   "metadata": {},
   "outputs": [],
   "source": [
    "def my_function(): #function definition\n",
    "    print(\"Do stuff here\\n\") #insert code for function to execute\n",
    "        "
   ]
  },
  {
   "cell_type": "code",
   "execution_count": 30,
   "metadata": {},
   "outputs": [
    {
     "name": "stdout",
     "output_type": "stream",
     "text": [
      "Do stuff here\n",
      "\n"
     ]
    }
   ],
   "source": [
    "my_function() #function call"
   ]
  },
  {
   "cell_type": "code",
   "execution_count": 31,
   "metadata": {},
   "outputs": [
    {
     "name": "stdout",
     "output_type": "stream",
     "text": [
      "4\n"
     ]
    }
   ],
   "source": [
    "#give the fucntion an argument\n",
    "def my_function(x):\n",
    "    print(2*x)\n",
    "    \n",
    "my_function(2)"
   ]
  },
  {
   "cell_type": "code",
   "execution_count": 32,
   "metadata": {},
   "outputs": [
    {
     "name": "stdout",
     "output_type": "stream",
     "text": [
      "0\n"
     ]
    }
   ],
   "source": [
    "#Setting default values\n",
    "def my_function(x=0):\n",
    "    print(2*x)\n",
    "    \n",
    "my_function()"
   ]
  },
  {
   "cell_type": "markdown",
   "metadata": {},
   "source": [
    "### You can use $*$ to pass in an array of parameters as the argument"
   ]
  },
  {
   "cell_type": "code",
   "execution_count": 45,
   "metadata": {},
   "outputs": [
    {
     "name": "stdout",
     "output_type": "stream",
     "text": [
      "6\n",
      "2\n",
      "3\n"
     ]
    }
   ],
   "source": [
    "def my_function(*pars):\n",
    "    for i in range (0,len(pars)):\n",
    "        print(pars[i])\n",
    "\n",
    "my_pars = np.array([6,2,3])\n",
    "my_function(*my_pars)"
   ]
  },
  {
   "cell_type": "code",
   "execution_count": 68,
   "metadata": {},
   "outputs": [
    {
     "name": "stdout",
     "output_type": "stream",
     "text": [
      "list pars\n",
      "6\n",
      "2\n",
      "3\n"
     ]
    }
   ],
   "source": [
    "def my_function(*pars):\n",
    "    print(\"list pars\")\n",
    "    for i in range (0,len(pars)):\n",
    "        print(pars[i])\n",
    "\n",
    "my_pars = np.array([6,2,3])\n",
    "my_function(*my_pars)"
   ]
  },
  {
   "cell_type": "markdown",
   "metadata": {},
   "source": [
    "### We can return a value"
   ]
  },
  {
   "cell_type": "code",
   "execution_count": 56,
   "metadata": {},
   "outputs": [
    {
     "name": "stdout",
     "output_type": "stream",
     "text": [
      "list pars\n",
      "6\n",
      "2\n",
      "3\n",
      "my_result:  12\n"
     ]
    }
   ],
   "source": [
    "def my_function(*pars):\n",
    "    print(\"list pars\")\n",
    "    for i in range (0,len(pars)):\n",
    "        print(pars[i])\n",
    "    return pars[0]+2*pars[2]\n",
    "\n",
    "my_pars = np.array([6,2,3])\n",
    "\n",
    "my_result = my_function(*my_pars)\n",
    "print(\"my_result: \", my_result)"
   ]
  },
  {
   "cell_type": "markdown",
   "metadata": {},
   "source": [
    "# Scope"
   ]
  },
  {
   "cell_type": "code",
   "execution_count": 85,
   "metadata": {},
   "outputs": [
    {
     "name": "stdout",
     "output_type": "stream",
     "text": [
      "5 2\n",
      "5\n",
      "2 2\n"
     ]
    }
   ],
   "source": [
    "x = 5\n",
    "def my_f():\n",
    "    x = 2\n",
    "    return x\n",
    "    \n",
    "\n",
    "print(x, my_f())\n",
    "print(x)\n",
    "x = my_f()\n",
    "print(x,my_f())\n",
    "\n"
   ]
  },
  {
   "cell_type": "code",
   "execution_count": 87,
   "metadata": {},
   "outputs": [
    {
     "name": "stdout",
     "output_type": "stream",
     "text": [
      "2 4\n",
      "2\n",
      "4 16\n"
     ]
    }
   ],
   "source": [
    "def my_f(y):\n",
    "    return y**2\n",
    "\n",
    "x = 2    \n",
    "\n",
    "print(x, my_f(x))\n",
    "print(x)\n",
    "\n",
    "x = my_f(x)\n",
    "print(x,my_f(x))\n",
    "\n"
   ]
  }
 ],
 "metadata": {
  "kernelspec": {
   "display_name": "Python 3",
   "language": "python",
   "name": "python3"
  },
  "language_info": {
   "codemirror_mode": {
    "name": "ipython",
    "version": 3
   },
   "file_extension": ".py",
   "mimetype": "text/x-python",
   "name": "python",
   "nbconvert_exporter": "python",
   "pygments_lexer": "ipython3",
   "version": "3.7.6"
  }
 },
 "nbformat": 4,
 "nbformat_minor": 4
}
